{
 "cells": [
  {
   "cell_type": "code",
   "execution_count": 1,
   "metadata": {},
   "outputs": [],
   "source": [
    "# only need this line in jupyter\n",
    "%matplotlib inline\n",
    "\n",
    "import matplotlib\n",
    "import matplotlib.pyplot as plt\n",
    "import numpy as np\n",
    "import pandas as pd"
   ]
  },
  {
   "cell_type": "code",
   "execution_count": 2,
   "metadata": {},
   "outputs": [],
   "source": [
    "# there are 215 features, need to edit pandas default display settings\n",
    "\n",
    "#pd.set_option('display.height', 1000)\n",
    "pd.set_option('display.max_rows', 500)\n",
    "pd.set_option('display.max_columns', 500)\n",
    "pd.set_option('display.width', 1000)"
   ]
  },
  {
   "cell_type": "markdown",
   "metadata": {},
   "source": [
    "# Drebin dataset analysis  \n"
   ]
  },
  {
   "cell_type": "markdown",
   "metadata": {},
   "source": [
    "  \n",
    "  "
   ]
  },
  {
   "cell_type": "code",
   "execution_count": 3,
   "metadata": {},
   "outputs": [
    {
     "name": "stdout",
     "output_type": "stream",
     "text": [
      "<class 'pandas.core.frame.DataFrame'>\n",
      "RangeIndex: 15036 entries, 0 to 15035\n",
      "Columns: 216 entries, transact to class\n",
      "dtypes: int64(214), object(2)\n",
      "memory usage: 24.8+ MB\n"
     ]
    },
    {
     "name": "stderr",
     "output_type": "stream",
     "text": [
      "/home/demislam/anaconda3/lib/python3.8/site-packages/IPython/core/interactiveshell.py:3146: DtypeWarning: Columns (92) have mixed types.Specify dtype option on import or set low_memory=False.\n",
      "  has_raised = await self.run_ast_nodes(code_ast.body, cell_name,\n"
     ]
    }
   ],
   "source": [
    "drebin_df = pd.read_csv('./datasets/Drebin-215/drebin-215-dataset-5560malware-9476-benign.csv')\n",
    "\n",
    "drebin_df.info()"
   ]
  },
  {
   "cell_type": "markdown",
   "metadata": {},
   "source": [
    "### Column-92('READ_EXTERNAL_STORAGE') had mixed dtype issue, fix by setting whole column to numeric"
   ]
  },
  {
   "cell_type": "markdown",
   "metadata": {},
   "source": [
    "  \n",
    "    "
   ]
  },
  {
   "cell_type": "code",
   "execution_count": 4,
   "metadata": {},
   "outputs": [],
   "source": [
    "# convert column values to numeric\n",
    "drebin_df['READ_EXTERNAL_STORAGE'] = pd.to_numeric(drebin_df['READ_EXTERNAL_STORAGE'])"
   ]
  },
  {
   "cell_type": "code",
   "execution_count": 5,
   "metadata": {},
   "outputs": [
    {
     "name": "stdout",
     "output_type": "stream",
     "text": [
      "<class 'pandas.core.frame.DataFrame'>\n",
      "RangeIndex: 15036 entries, 0 to 15035\n",
      "Columns: 216 entries, transact to class\n",
      "dtypes: int64(214), object(2)\n",
      "memory usage: 24.8+ MB\n"
     ]
    }
   ],
   "source": [
    "drebin_df.info()"
   ]
  },
  {
   "cell_type": "code",
   "execution_count": 6,
   "metadata": {},
   "outputs": [
    {
     "data": {
      "text/plain": [
       "transact                                            int64\n",
       "onServiceConnected                                  int64\n",
       "bindService                                         int64\n",
       "attachInterface                                     int64\n",
       "ServiceConnection                                   int64\n",
       "android.os.Binder                                   int64\n",
       "SEND_SMS                                            int64\n",
       "Ljava.lang.Class.getCanonicalName                   int64\n",
       "Ljava.lang.Class.getMethods                         int64\n",
       "Ljava.lang.Class.cast                               int64\n",
       "Ljava.net.URLDecoder                                int64\n",
       "android.content.pm.Signature                        int64\n",
       "android.telephony.SmsManager                        int64\n",
       "READ_PHONE_STATE                                    int64\n",
       "getBinder                                           int64\n",
       "ClassLoader                                         int64\n",
       "Landroid.content.Context.registerReceiver           int64\n",
       "Ljava.lang.Class.getField                           int64\n",
       "Landroid.content.Context.unregisterReceiver         int64\n",
       "GET_ACCOUNTS                                        int64\n",
       "RECEIVE_SMS                                         int64\n",
       "Ljava.lang.Class.getDeclaredField                   int64\n",
       "READ_SMS                                            int64\n",
       "getCallingUid                                       int64\n",
       "Ljavax.crypto.spec.SecretKeySpec                    int64\n",
       "android.intent.action.BOOT_COMPLETED                int64\n",
       "USE_CREDENTIALS                                     int64\n",
       "MANAGE_ACCOUNTS                                     int64\n",
       "android.content.pm.PackageInfo                      int64\n",
       "KeySpec                                             int64\n",
       "TelephonyManager.getLine1Number                     int64\n",
       "DexClassLoader                                      int64\n",
       "HttpGet.init                                        int64\n",
       "SecretKey                                           int64\n",
       "Ljava.lang.Class.getMethod                          int64\n",
       "System.loadLibrary                                  int64\n",
       "android.intent.action.SEND                          int64\n",
       "Ljavax.crypto.Cipher                                int64\n",
       "WRITE_SMS                                           int64\n",
       "READ_SYNC_SETTINGS                                  int64\n",
       "AUTHENTICATE_ACCOUNTS                               int64\n",
       "android.telephony.gsm.SmsManager                    int64\n",
       "WRITE_HISTORY_BOOKMARKS                             int64\n",
       "TelephonyManager.getSubscriberId                    int64\n",
       "mount                                               int64\n",
       "INSTALL_PACKAGES                                    int64\n",
       "Runtime.getRuntime                                  int64\n",
       "CAMERA                                              int64\n",
       "Ljava.lang.Object.getClass                          int64\n",
       "WRITE_SYNC_SETTINGS                                 int64\n",
       "READ_HISTORY_BOOKMARKS                              int64\n",
       "Ljava.lang.Class.forName                            int64\n",
       "INTERNET                                            int64\n",
       "android.intent.action.PACKAGE_REPLACED              int64\n",
       "Binder                                              int64\n",
       "android.intent.action.SEND_MULTIPLE                 int64\n",
       "RECORD_AUDIO                                        int64\n",
       "IBinder                                             int64\n",
       "android.os.IBinder                                  int64\n",
       "createSubprocess                                    int64\n",
       "NFC                                                 int64\n",
       "ACCESS_LOCATION_EXTRA_COMMANDS                      int64\n",
       "URLClassLoader                                      int64\n",
       "WRITE_APN_SETTINGS                                  int64\n",
       "abortBroadcast                                      int64\n",
       "BIND_REMOTEVIEWS                                    int64\n",
       "android.intent.action.TIME_SET                      int64\n",
       "READ_PROFILE                                        int64\n",
       "TelephonyManager.getDeviceId                        int64\n",
       "MODIFY_AUDIO_SETTINGS                               int64\n",
       "getCallingPid                                       int64\n",
       "READ_SYNC_STATS                                     int64\n",
       "BROADCAST_STICKY                                    int64\n",
       "android.intent.action.PACKAGE_REMOVED               int64\n",
       "android.intent.action.TIMEZONE_CHANGED              int64\n",
       "WAKE_LOCK                                           int64\n",
       "RECEIVE_BOOT_COMPLETED                              int64\n",
       "RESTART_PACKAGES                                    int64\n",
       "Ljava.lang.Class.getPackage                         int64\n",
       "chmod                                               int64\n",
       "Ljava.lang.Class.getDeclaredClasses                 int64\n",
       "android.intent.action.ACTION_POWER_DISCONNECTED     int64\n",
       "android.intent.action.PACKAGE_ADDED                 int64\n",
       "PathClassLoader                                     int64\n",
       "TelephonyManager.getSimSerialNumber                 int64\n",
       "Runtime.load                                        int64\n",
       "TelephonyManager.getCallState                       int64\n",
       "BLUETOOTH                                           int64\n",
       "READ_CALENDAR                                       int64\n",
       "READ_CALL_LOG                                       int64\n",
       "SUBSCRIBED_FEEDS_WRITE                              int64\n",
       "READ_EXTERNAL_STORAGE                               int64\n",
       "TelephonyManager.getSimCountryIso                  object\n",
       "sendMultipartTextMessage                            int64\n",
       "PackageInstaller                                    int64\n",
       "VIBRATE                                             int64\n",
       "remount                                             int64\n",
       "android.intent.action.ACTION_SHUTDOWN               int64\n",
       "sendDataMessage                                     int64\n",
       "ACCESS_NETWORK_STATE                                int64\n",
       "chown                                               int64\n",
       "HttpPost.init                                       int64\n",
       "Ljava.lang.Class.getClasses                         int64\n",
       "SUBSCRIBED_FEEDS_READ                               int64\n",
       "TelephonyManager.isNetworkRoaming                   int64\n",
       "CHANGE_WIFI_MULTICAST_STATE                         int64\n",
       "WRITE_CALENDAR                                      int64\n",
       "android.intent.action.PACKAGE_DATA_CLEARED          int64\n",
       "MASTER_CLEAR                                        int64\n",
       "HttpUriRequest                                      int64\n",
       "UPDATE_DEVICE_STATS                                 int64\n",
       "WRITE_CALL_LOG                                      int64\n",
       "DELETE_PACKAGES                                     int64\n",
       "GET_TASKS                                           int64\n",
       "GLOBAL_SEARCH                                       int64\n",
       "DELETE_CACHE_FILES                                  int64\n",
       "WRITE_USER_DICTIONARY                               int64\n",
       "android.intent.action.PACKAGE_CHANGED               int64\n",
       "android.intent.action.NEW_OUTGOING_CALL             int64\n",
       "REORDER_TASKS                                       int64\n",
       "WRITE_PROFILE                                       int64\n",
       "SET_WALLPAPER                                       int64\n",
       "BIND_INPUT_METHOD                                   int64\n",
       "divideMessage                                       int64\n",
       "READ_SOCIAL_STREAM                                  int64\n",
       "READ_USER_DICTIONARY                                int64\n",
       "PROCESS_OUTGOING_CALLS                              int64\n",
       "CALL_PRIVILEGED                                     int64\n",
       "Runtime.exec                                        int64\n",
       "BIND_WALLPAPER                                      int64\n",
       "RECEIVE_WAP_PUSH                                    int64\n",
       "DUMP                                                int64\n",
       "BATTERY_STATS                                       int64\n",
       "ACCESS_COARSE_LOCATION                              int64\n",
       "SET_TIME                                            int64\n",
       "android.intent.action.SENDTO                        int64\n",
       "WRITE_SOCIAL_STREAM                                 int64\n",
       "WRITE_SETTINGS                                      int64\n",
       "REBOOT                                              int64\n",
       "BLUETOOTH_ADMIN                                     int64\n",
       "TelephonyManager.getNetworkOperator                 int64\n",
       "/system/bin                                         int64\n",
       "MessengerService                                    int64\n",
       "BIND_DEVICE_ADMIN                                   int64\n",
       "WRITE_GSERVICES                                     int64\n",
       "IRemoteService                                      int64\n",
       "KILL_BACKGROUND_PROCESSES                           int64\n",
       "SET_ALARM                                           int64\n",
       "ACCOUNT_MANAGER                                     int64\n",
       "/system/app                                         int64\n",
       "android.intent.action.CALL                          int64\n",
       "STATUS_BAR                                          int64\n",
       "TelephonyManager.getSimOperator                     int64\n",
       "PERSISTENT_ACTIVITY                                 int64\n",
       "CHANGE_NETWORK_STATE                                int64\n",
       "onBind                                              int64\n",
       "Process.start                                       int64\n",
       "android.intent.action.SCREEN_ON                     int64\n",
       "Context.bindService                                 int64\n",
       "RECEIVE_MMS                                         int64\n",
       "SET_TIME_ZONE                                       int64\n",
       "android.intent.action.BATTERY_OKAY                  int64\n",
       "CONTROL_LOCATION_UPDATES                            int64\n",
       "BROADCAST_WAP_PUSH                                  int64\n",
       "BIND_ACCESSIBILITY_SERVICE                          int64\n",
       "ADD_VOICEMAIL                                       int64\n",
       "CALL_PHONE                                          int64\n",
       "ProcessBuilder                                      int64\n",
       "BIND_APPWIDGET                                      int64\n",
       "FLASHLIGHT                                          int64\n",
       "READ_LOGS                                           int64\n",
       "Ljava.lang.Class.getResource                        int64\n",
       "defineClass                                         int64\n",
       "SET_PROCESS_LIMIT                                   int64\n",
       "android.intent.action.PACKAGE_RESTARTED             int64\n",
       "MOUNT_UNMOUNT_FILESYSTEMS                           int64\n",
       "BIND_TEXT_SERVICE                                   int64\n",
       "INSTALL_LOCATION_PROVIDER                           int64\n",
       "android.intent.action.CALL_BUTTON                   int64\n",
       "android.intent.action.SCREEN_OFF                    int64\n",
       "findClass                                           int64\n",
       "SYSTEM_ALERT_WINDOW                                 int64\n",
       "MOUNT_FORMAT_FILESYSTEMS                            int64\n",
       "CHANGE_CONFIGURATION                                int64\n",
       "CLEAR_APP_USER_DATA                                 int64\n",
       "intent.action.RUN                                   int64\n",
       "android.intent.action.SET_WALLPAPER                 int64\n",
       "CHANGE_WIFI_STATE                                   int64\n",
       "READ_FRAME_BUFFER                                   int64\n",
       "ACCESS_SURFACE_FLINGER                              int64\n",
       "Runtime.loadLibrary                                 int64\n",
       "BROADCAST_SMS                                       int64\n",
       "EXPAND_STATUS_BAR                                   int64\n",
       "INTERNAL_SYSTEM_WINDOW                              int64\n",
       "android.intent.action.BATTERY_LOW                   int64\n",
       "SET_ACTIVITY_WATCHER                                int64\n",
       "WRITE_CONTACTS                                      int64\n",
       "android.intent.action.ACTION_POWER_CONNECTED        int64\n",
       "BIND_VPN_SERVICE                                    int64\n",
       "DISABLE_KEYGUARD                                    int64\n",
       "ACCESS_MOCK_LOCATION                                int64\n",
       "GET_PACKAGE_SIZE                                    int64\n",
       "MODIFY_PHONE_STATE                                  int64\n",
       "CHANGE_COMPONENT_ENABLED_STATE                      int64\n",
       "CLEAR_APP_CACHE                                     int64\n",
       "SET_ORIENTATION                                     int64\n",
       "READ_CONTACTS                                       int64\n",
       "DEVICE_POWER                                        int64\n",
       "HARDWARE_TEST                                       int64\n",
       "ACCESS_WIFI_STATE                                   int64\n",
       "WRITE_EXTERNAL_STORAGE                              int64\n",
       "ACCESS_FINE_LOCATION                                int64\n",
       "SET_WALLPAPER_HINTS                                 int64\n",
       "SET_PREFERRED_APPLICATIONS                          int64\n",
       "WRITE_SECURE_SETTINGS                               int64\n",
       "class                                              object\n",
       "dtype: object"
      ]
     },
     "execution_count": 6,
     "metadata": {},
     "output_type": "execute_result"
    }
   ],
   "source": [
    "drebin_df.dtypes"
   ]
  },
  {
   "cell_type": "code",
   "execution_count": 7,
   "metadata": {},
   "outputs": [],
   "source": [
    "# column-TelephonyManager.getSimCountryIso had object dtype \n",
    "# converting type to numeric\n",
    "# gives error\n",
    "## drebin_df['TelephonyManager.getSimCountryIso'] = pd.to_numeric(drebin_df['TelephonyManager.getSimCountryIso'])"
   ]
  },
  {
   "cell_type": "code",
   "execution_count": 8,
   "metadata": {},
   "outputs": [],
   "source": [
    "def check_missing_data(df):\n",
    "    \n",
    "    total_instances = df.shape[0]\n",
    "    columns = df.columns\n",
    "\n",
    "    for column in columns:\n",
    "        one_zero_count = df[(df[column]==0) | (df[column]==1)].shape[0]\n",
    "        if one_zero_count != total_instances:\n",
    "            print(column, 'has', (total_instances-one_zero_count), 'rows with non 0-1 values')"
   ]
  },
  {
   "cell_type": "code",
   "execution_count": 9,
   "metadata": {},
   "outputs": [
    {
     "name": "stdout",
     "output_type": "stream",
     "text": [
      "TelephonyManager.getSimCountryIso has 8192 rows with non 0-1 values\n",
      "class has 15036 rows with non 0-1 values\n"
     ]
    }
   ],
   "source": [
    "check_missing_data(drebin_df)"
   ]
  },
  {
   "cell_type": "code",
   "execution_count": 10,
   "metadata": {},
   "outputs": [
    {
     "data": {
      "text/plain": [
       "array(['0', '1', '?', 1, 0], dtype=object)"
      ]
     },
     "execution_count": 10,
     "metadata": {},
     "output_type": "execute_result"
    }
   ],
   "source": [
    "drebin_df['TelephonyManager.getSimCountryIso'].unique()"
   ]
  },
  {
   "cell_type": "code",
   "execution_count": 11,
   "metadata": {},
   "outputs": [
    {
     "data": {
      "text/plain": [
       "5"
      ]
     },
     "execution_count": 11,
     "metadata": {},
     "output_type": "execute_result"
    }
   ],
   "source": [
    "drebin_df[(drebin_df['TelephonyManager.getSimCountryIso']=='?')].shape[0]"
   ]
  },
  {
   "cell_type": "markdown",
   "metadata": {},
   "source": [
    "### Column- TelephonyManager.getSimCountryIso has values- ['0', '1', '?', 1, 0]. Need to remove instances with '?' (only 5 instances) and convert '0' to 0 and '1' to 1 "
   ]
  },
  {
   "cell_type": "markdown",
   "metadata": {},
   "source": [
    "  \n",
    "    "
   ]
  },
  {
   "cell_type": "code",
   "execution_count": 12,
   "metadata": {},
   "outputs": [],
   "source": [
    "# drop rows with 'TelephonyManager.getSimCountryIso' = '?' \n",
    "drebin_df = drebin_df[drebin_df['TelephonyManager.getSimCountryIso']!='?']"
   ]
  },
  {
   "cell_type": "code",
   "execution_count": 13,
   "metadata": {},
   "outputs": [
    {
     "data": {
      "text/plain": [
       "array(['0', '1', 1, 0], dtype=object)"
      ]
     },
     "execution_count": 13,
     "metadata": {},
     "output_type": "execute_result"
    }
   ],
   "source": [
    "drebin_df['TelephonyManager.getSimCountryIso'].unique()"
   ]
  },
  {
   "cell_type": "code",
   "execution_count": 14,
   "metadata": {},
   "outputs": [],
   "source": [
    "# convert column values to numeric\n",
    "drebin_df['TelephonyManager.getSimCountryIso'] = pd.to_numeric(drebin_df['TelephonyManager.getSimCountryIso'])"
   ]
  },
  {
   "cell_type": "code",
   "execution_count": 15,
   "metadata": {},
   "outputs": [
    {
     "name": "stdout",
     "output_type": "stream",
     "text": [
      "class has 15031 rows with non 0-1 values\n"
     ]
    }
   ],
   "source": [
    "check_missing_data(drebin_df)"
   ]
  },
  {
   "cell_type": "code",
   "execution_count": 16,
   "metadata": {},
   "outputs": [
    {
     "data": {
      "text/plain": [
       "(15031, 216)"
      ]
     },
     "execution_count": 16,
     "metadata": {},
     "output_type": "execute_result"
    }
   ],
   "source": [
    "drebin_df.shape"
   ]
  },
  {
   "cell_type": "code",
   "execution_count": 17,
   "metadata": {},
   "outputs": [
    {
     "name": "stdout",
     "output_type": "stream",
     "text": [
      "<class 'pandas.core.frame.DataFrame'>\n",
      "Int64Index: 15031 entries, 0 to 15035\n",
      "Columns: 216 entries, transact to class\n",
      "dtypes: int64(215), object(1)\n",
      "memory usage: 24.9+ MB\n"
     ]
    }
   ],
   "source": [
    "drebin_df.info()"
   ]
  },
  {
   "cell_type": "code",
   "execution_count": 18,
   "metadata": {},
   "outputs": [
    {
     "data": {
      "text/plain": [
       "B    9476\n",
       "S    5555\n",
       "Name: class, dtype: int64"
      ]
     },
     "execution_count": 18,
     "metadata": {},
     "output_type": "execute_result"
    }
   ],
   "source": [
    "class_freq = drebin_df['class'].value_counts()\n",
    "class_freq"
   ]
  },
  {
   "cell_type": "code",
   "execution_count": 19,
   "metadata": {},
   "outputs": [],
   "source": [
    "# save pre-processed Drebin dataset to new csv file\n",
    "drebin_df.to_csv('./datasets/Pre-processed_Dataset/Drebin.csv', index=False)"
   ]
  },
  {
   "cell_type": "markdown",
   "metadata": {},
   "source": [
    "  \n",
    "  # Malgenome Dataset Analysis"
   ]
  },
  {
   "cell_type": "markdown",
   "metadata": {},
   "source": [
    "  \n",
    "  "
   ]
  },
  {
   "cell_type": "code",
   "execution_count": 20,
   "metadata": {},
   "outputs": [],
   "source": [
    "malgenome_df = pd.read_csv('./datasets/malgenome-215/malgenome-215-dataset-1260malware-2539-benign.csv')"
   ]
  },
  {
   "cell_type": "code",
   "execution_count": 21,
   "metadata": {},
   "outputs": [
    {
     "data": {
      "text/plain": [
       "(3799, 216)"
      ]
     },
     "execution_count": 21,
     "metadata": {},
     "output_type": "execute_result"
    }
   ],
   "source": [
    "malgenome_df.shape"
   ]
  },
  {
   "cell_type": "code",
   "execution_count": 22,
   "metadata": {},
   "outputs": [
    {
     "name": "stdout",
     "output_type": "stream",
     "text": [
      "<class 'pandas.core.frame.DataFrame'>\n",
      "RangeIndex: 3799 entries, 0 to 3798\n",
      "Columns: 216 entries, transact to class\n",
      "dtypes: int64(215), object(1)\n",
      "memory usage: 6.3+ MB\n"
     ]
    }
   ],
   "source": [
    "malgenome_df.info()"
   ]
  },
  {
   "cell_type": "code",
   "execution_count": 23,
   "metadata": {},
   "outputs": [
    {
     "name": "stdout",
     "output_type": "stream",
     "text": [
      "class has 3799 rows with non 0-1 values\n"
     ]
    }
   ],
   "source": [
    "check_missing_data(malgenome_df)"
   ]
  },
  {
   "cell_type": "markdown",
   "metadata": {},
   "source": [
    "### No problem with the Malgenome dataset"
   ]
  },
  {
   "cell_type": "markdown",
   "metadata": {},
   "source": [
    "  \n",
    "    "
   ]
  },
  {
   "cell_type": "code",
   "execution_count": 24,
   "metadata": {},
   "outputs": [
    {
     "data": {
      "text/plain": [
       "B    2539\n",
       "S    1260\n",
       "Name: class, dtype: int64"
      ]
     },
     "execution_count": 24,
     "metadata": {},
     "output_type": "execute_result"
    }
   ],
   "source": [
    "class_freq = malgenome_df['class'].value_counts()\n",
    "class_freq"
   ]
  },
  {
   "cell_type": "code",
   "execution_count": 25,
   "metadata": {},
   "outputs": [],
   "source": [
    "# save Malgenome dataset to csv file, no pre-processing needed\n",
    "malgenome_df.to_csv('./datasets/Pre-processed_Dataset/Malgenome.csv', index=False)"
   ]
  },
  {
   "cell_type": "markdown",
   "metadata": {},
   "source": [
    "  \n",
    "  # Merge the two datasets"
   ]
  },
  {
   "cell_type": "markdown",
   "metadata": {},
   "source": [
    "  \n",
    "  "
   ]
  },
  {
   "cell_type": "code",
   "execution_count": 26,
   "metadata": {},
   "outputs": [
    {
     "name": "stdout",
     "output_type": "stream",
     "text": [
      "211 columns don't match\n"
     ]
    }
   ],
   "source": [
    "# check if columns of both the datasets are same\n",
    "drebin_columns = drebin_df.columns\n",
    "malgenome_columns = malgenome_df.columns\n",
    "\n",
    "diff_column_cnt = 0\n",
    "for idx in range(0, len(drebin_columns)):\n",
    "    if(drebin_columns[idx]!=malgenome_columns[idx]):\n",
    "        # print(drebin_columns[idx], '(drebin) & ', malgenome_columns[idx], \"(malgenome) don't match\")\n",
    "        diff_column_cnt+=1\n",
    "        \n",
    "print(diff_column_cnt, \"columns don't match\")"
   ]
  },
  {
   "cell_type": "code",
   "execution_count": 27,
   "metadata": {},
   "outputs": [],
   "source": [
    "drebin_columns_set = set(drebin_columns)\n",
    "malgenome_columns_set = set(malgenome_columns)"
   ]
  },
  {
   "cell_type": "code",
   "execution_count": 28,
   "metadata": {},
   "outputs": [
    {
     "data": {
      "text/plain": [
       "223"
      ]
     },
     "execution_count": 28,
     "metadata": {},
     "output_type": "execute_result"
    }
   ],
   "source": [
    "all_columns = drebin_columns_set.union(malgenome_columns_set)\n",
    "len(all_columns)"
   ]
  },
  {
   "cell_type": "code",
   "execution_count": 29,
   "metadata": {},
   "outputs": [
    {
     "data": {
      "text/plain": [
       "209"
      ]
     },
     "execution_count": 29,
     "metadata": {},
     "output_type": "execute_result"
    }
   ],
   "source": [
    "common_columns = drebin_columns_set.intersection(malgenome_columns_set)\n",
    "len(common_columns)"
   ]
  },
  {
   "cell_type": "code",
   "execution_count": 30,
   "metadata": {},
   "outputs": [
    {
     "data": {
      "text/plain": [
       "14"
      ]
     },
     "execution_count": 30,
     "metadata": {},
     "output_type": "execute_result"
    }
   ],
   "source": [
    "not_common_columns = drebin_columns_set.symmetric_difference(malgenome_columns_set)\n",
    "len(not_common_columns)"
   ]
  },
  {
   "cell_type": "markdown",
   "metadata": {},
   "source": [
    "### The two datasets have 209 features in common ('common_columns'). We need to drop the extra columns ('not_common_columns') from the datasets.  \n"
   ]
  },
  {
   "cell_type": "markdown",
   "metadata": {},
   "source": [
    "  \n",
    "    "
   ]
  },
  {
   "cell_type": "code",
   "execution_count": 31,
   "metadata": {},
   "outputs": [
    {
     "data": {
      "text/plain": [
       "{'.system.app',\n",
       " '.system.bin',\n",
       " '/system/app',\n",
       " '/system/bin',\n",
       " 'BIND_TEXT_SERVICE',\n",
       " 'BROADCAST_PACKAGE_REMOVED',\n",
       " 'CONTROL_LOCATION_UPDATES',\n",
       " 'DELETE_CACHE_FILES',\n",
       " 'HARDWARE_TEST',\n",
       " 'INJECT_EVENTS',\n",
       " 'READ_INPUT_STATE',\n",
       " 'Runtime.loadLibrary',\n",
       " 'android.intent.action.CAMERA_BUTTON',\n",
       " 'android.intent.action.REBOOT'}"
      ]
     },
     "execution_count": 31,
     "metadata": {},
     "output_type": "execute_result"
    }
   ],
   "source": [
    "not_common_columns"
   ]
  },
  {
   "cell_type": "code",
   "execution_count": 32,
   "metadata": {},
   "outputs": [],
   "source": [
    "drebin_drop_columns = [] \n",
    "malgenome_drop_columns = []\n",
    "\n",
    "for drop_column in not_common_columns:\n",
    "    if(drop_column in drebin_columns):\n",
    "        drebin_drop_columns.append(drop_column)\n",
    "    if(drop_column in malgenome_columns):\n",
    "        malgenome_drop_columns.append(drop_column)"
   ]
  },
  {
   "cell_type": "code",
   "execution_count": 33,
   "metadata": {},
   "outputs": [
    {
     "data": {
      "text/plain": [
       "['/system/app',\n",
       " 'BIND_TEXT_SERVICE',\n",
       " 'Runtime.loadLibrary',\n",
       " 'CONTROL_LOCATION_UPDATES',\n",
       " 'HARDWARE_TEST',\n",
       " '/system/bin',\n",
       " 'DELETE_CACHE_FILES']"
      ]
     },
     "execution_count": 33,
     "metadata": {},
     "output_type": "execute_result"
    }
   ],
   "source": [
    "drebin_drop_columns"
   ]
  },
  {
   "cell_type": "code",
   "execution_count": 34,
   "metadata": {},
   "outputs": [
    {
     "data": {
      "text/plain": [
       "['READ_INPUT_STATE',\n",
       " 'android.intent.action.CAMERA_BUTTON',\n",
       " '.system.bin',\n",
       " 'INJECT_EVENTS',\n",
       " 'android.intent.action.REBOOT',\n",
       " '.system.app',\n",
       " 'BROADCAST_PACKAGE_REMOVED']"
      ]
     },
     "execution_count": 34,
     "metadata": {},
     "output_type": "execute_result"
    }
   ],
   "source": [
    "malgenome_drop_columns"
   ]
  }
 ],
 "metadata": {
  "kernelspec": {
   "display_name": "Python 3",
   "language": "python",
   "name": "python3"
  },
  "language_info": {
   "codemirror_mode": {
    "name": "ipython",
    "version": 3
   },
   "file_extension": ".py",
   "mimetype": "text/x-python",
   "name": "python",
   "nbconvert_exporter": "python",
   "pygments_lexer": "ipython3",
   "version": "3.8.5"
  }
 },
 "nbformat": 4,
 "nbformat_minor": 4
}
